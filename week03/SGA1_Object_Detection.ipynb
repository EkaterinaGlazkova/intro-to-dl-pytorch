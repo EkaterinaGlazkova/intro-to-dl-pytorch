{
  "nbformat": 4,
  "nbformat_minor": 0,
  "metadata": {
    "accelerator": "GPU",
    "colab": {
      "name": "SGA1_Object Detection.ipynb",
      "provenance": [],
      "collapsed_sections": []
    },
    "kernelspec": {
      "display_name": "Python 3",
      "name": "python3"
    }
  },
  "cells": [
    {
      "cell_type": "markdown",
      "metadata": {
        "id": "_MaSHiIyGd23"
      },
      "source": [
        "# Object Detection"
      ]
    },
    {
      "cell_type": "markdown",
      "metadata": {
        "id": "ZcPTRljhXhhI"
      },
      "source": [
        "In this assignment, you will implement a fruit detector. \r\n",
        "The task is divided into steps for simpler navigation.\r\n",
        "\r\n",
        "Let's start!"
      ]
    },
    {
      "cell_type": "code",
      "metadata": {
        "id": "fcggFBc_FdC2"
      },
      "source": [
        "# we will need this library to process the labeling\r\n",
        "! pip install xmltodict"
      ],
      "execution_count": null,
      "outputs": []
    },
    {
      "cell_type": "code",
      "metadata": {
        "id": "HsTOiuplEugf"
      },
      "source": [
        "import numpy as np\r\n",
        "import torch\r\n",
        "from torch import nn\r\n",
        "from torch.nn import functional as F\r\n",
        "from torch.utils.data import Dataset, DataLoader\r\n",
        "import xmltodict\r\n",
        "import json\r\n",
        "import glob\r\n",
        "import cv2\r\n",
        "import os\r\n",
        "import torchvision\r\n",
        "import matplotlib.pyplot as plt\r\n",
        "\r\n",
        "import torchvision\r\n",
        "import torchvision.transforms as T\r\n",
        "from torchvision.models.detection.faster_rcnn import FastRCNNPredictor\r\n",
        "from torchvision.models.detection import fasterrcnn_resnet50_fpn"
      ],
      "execution_count": null,
      "outputs": []
    },
    {
      "cell_type": "markdown",
      "metadata": {
        "id": "XfbyE1_tIL1x"
      },
      "source": [
        "## Step 0. Dataset"
      ]
    },
    {
      "cell_type": "markdown",
      "metadata": {
        "id": "KgTskp7RbqFZ"
      },
      "source": [
        "First, let's load the data that you can download [here](https://drive.google.com/file/d/1Ve5e9qdy_sUCMM4qXWrw8ecURg2af9Cm/view?usp=sharing). \r\n",
        "\r\n",
        "We have already written a dataset class for you and we encourage you to figure out how it works."
      ]
    },
    {
      "cell_type": "code",
      "metadata": {
        "id": "LelLza0-FR_Y"
      },
      "source": [
        "class2tag = {\"apple\": 1, \"orange\": 2, \"banana\": 3}\r\n",
        "\r\n",
        "\r\n",
        "class FruitDataset(Dataset):\r\n",
        "    def __init__(self, data_dir, transform=None):\r\n",
        "        self.images = []\r\n",
        "        self.annotations = []\r\n",
        "        self.transform = transform\r\n",
        "        for annotation in glob.glob(data_dir + \"/*xml\"):\r\n",
        "            image_fname = os.path.splitext(annotation)[0] + \".jpg\"\r\n",
        "            self.images.append(cv2.cvtColor(cv2.imread(image_fname), cv2.COLOR_BGR2RGB))\r\n",
        "            with open(annotation) as f:\r\n",
        "                annotation_dict = xmltodict.parse(f.read())\r\n",
        "            bboxes = []\r\n",
        "            labels = []\r\n",
        "            objects = annotation_dict[\"annotation\"][\"object\"]\r\n",
        "            if not isinstance(objects, list):\r\n",
        "                objects = [objects]\r\n",
        "            for obj in objects:\r\n",
        "                bndbox = obj[\"bndbox\"]\r\n",
        "                bbox = [bndbox[\"xmin\"], bndbox[\"ymin\"], bndbox[\"xmax\"], bndbox[\"ymax\"]]\r\n",
        "                bbox = list(map(int, bbox))\r\n",
        "                bboxes.append(torch.tensor(bbox))\r\n",
        "                labels.append(class2tag[obj[\"name\"]])\r\n",
        "            self.annotations.append(\r\n",
        "                {\"boxes\": torch.stack(bboxes).float(), \"labels\": torch.tensor(labels)}\r\n",
        "            )\r\n",
        "\r\n",
        "    def __getitem__(self, i):\r\n",
        "        if self.transform:\r\n",
        "            # the following code is correct if you use albumentations\r\n",
        "            # if you use torchvision transforms you have to modify it\r\n",
        "            res = self.transform(\r\n",
        "                image=self.images[i],\r\n",
        "                bboxes=self.annotations[i][\"boxes\"],\r\n",
        "                labels=self.annotations[i][\"labels\"],\r\n",
        "            )\r\n",
        "            return res[\"image\"], {\r\n",
        "                \"boxes\": torch.tensor(res[\"bboxes\"]),\r\n",
        "                \"labels\": torch.tensor(res[\"labels\"]),\r\n",
        "            }\r\n",
        "        else:\r\n",
        "            return self.images[i], self.annotations[i]\r\n",
        "\r\n",
        "    def __len__(self):\r\n",
        "        return len(self.images)"
      ],
      "execution_count": null,
      "outputs": []
    },
    {
      "cell_type": "markdown",
      "metadata": {
        "id": "-OCL52YoiigR"
      },
      "source": [
        "## Step 1. Intersection over Union (10 points)"
      ]
    },
    {
      "cell_type": "markdown",
      "metadata": {
        "id": "bsybDfSlIrFL"
      },
      "source": [
        "In the [Object Detection task](https://en.wikipedia.org/wiki/Object_detection), you need to find objects of a certain class on the image and locate their positions (using the bounding box). The  model should predict the coordinates of the bounding box `[x0, y0, x1, y1]` and the label for this box. The model can predict multiple candidate bounding boxes for an object. We will select candidates using [Intersection Over Union](https://en.wikipedia.org/wiki/Jaccard_index)."
      ]
    },
    {
      "cell_type": "markdown",
      "metadata": {
        "id": "otUTl7TMi6Ts"
      },
      "source": [
        "<img src=https://upload.wikimedia.org/wikipedia/commons/c/c7/Intersection_over_Union_-_visual_equation.png>\r\n"
      ]
    },
    {
      "cell_type": "markdown",
      "metadata": {
        "id": "QPZqTTOgjX_K"
      },
      "source": [
        "Implement a function that will calculate IoU for bounding boxes."
      ]
    },
    {
      "cell_type": "code",
      "metadata": {
        "id": "gtCPABU8dXOz"
      },
      "source": [
        "def intersection_over_union(dt_bbox, gt_bbox):\r\n",
        "    \"\"\"\r\n",
        "    Intersection over Union between two bboxes\r\n",
        "    :param dt_bbox: list or numpy array of size (4,) [x0, y0, x1, y1]\r\n",
        "    :param gt_bbox: list or numpy array of size (4,) [x0, y0, x1, y1]\r\n",
        "    :return : intersection over union\r\n",
        "    \"\"\"\r\n",
        "    ## YOUR CODE HERE\r\n",
        "    \r\n",
        "    return iou"
      ],
      "execution_count": null,
      "outputs": []
    },
    {
      "cell_type": "markdown",
      "metadata": {
        "id": "n2XtWBs9jq1I"
      },
      "source": [
        "If the function is implemented correctly, then the execution of the following cell will produce:\r\n",
        "\r\n",
        "**0.14285714285714285**"
      ]
    },
    {
      "cell_type": "code",
      "metadata": {
        "id": "wXZFFOTBjjBX"
      },
      "source": [
        "dt_bbox = [0, 0, 2, 2]\r\n",
        "gt_bbox = [1, 1, 3, 3]\r\n",
        "intersection_over_union(dt_bbox, gt_bbox)"
      ],
      "execution_count": null,
      "outputs": []
    },
    {
      "cell_type": "markdown",
      "metadata": {
        "id": "Loadw2Krkq_a"
      },
      "source": [
        "## Step 2. Evaluate Sample (15 points)"
      ]
    },
    {
      "cell_type": "markdown",
      "metadata": {
        "id": "SIrVulAQLidT"
      },
      "source": [
        "We now have to evaluate the predictions of the model. To do this, we will write a function that will do the following:\r\n",
        "1. Take model predictions and ground truth bounding boxes and labels as inputs.\r\n",
        "2. For each bounding box from the prediction, find the closest bounding box among the answers.\r\n",
        "3. For each found pair of bounding boxes, check whether the IoU is greater than a certain threshold `iou_threshold`. If the **IoU** exceeds the threshold, then we consider this answer as **True Positive**.\r\n",
        "4. Remove a matched bounding box from the evaluation.\r\n",
        "5. For each predicted bounding box, return the detection score and whether we were able to match it or not."
      ]
    },
    {
      "cell_type": "code",
      "metadata": {
        "id": "oK54_evGzyQg"
      },
      "source": [
        "def evaluate_sample(target_pred, target_true, iou_threshold=0.5):\r\n",
        "    # ground truth\r\n",
        "    gt_bboxes = target_true['boxes'].numpy()\r\n",
        "    gt_labels = target_true['labels'].numpy()\r\n",
        "\r\n",
        "    # predictions\r\n",
        "    dt_bboxes = target_pred['boxes'].numpy()\r\n",
        "    dt_labels = target_pred['labels'].numpy()\r\n",
        "    dt_scores = target_pred['scores'].numpy()\r\n",
        "\r\n",
        "    results = []\r\n",
        "    # for each bounding box from the prediction, find the closest bounding box among the answers\r\n",
        "    for detection_id in range(len(dt_labels)):\r\n",
        "        dt_bbox = dt_bboxes[detection_id, :]\r\n",
        "        dt_label = dt_labels[detection_id]\r\n",
        "        dt_score = dt_scores[detection_id]\r\n",
        "\r\n",
        "        detection_result_dict = {'score': dt_score}\r\n",
        "\r\n",
        "        ## YOUR CODE HERE\r\n",
        "        \r\n",
        "        if max_gt_id >= 0 and max_IoU >= iou_threshold:\r\n",
        "            # mark as True Positive\r\n",
        "            detection_result_dict['TP'] = 1\r\n",
        "            # delete matched bounding box\r\n",
        "            gt_labels = np.delete(gt_labels, max_gt_id, axis=0)\r\n",
        "            gt_bboxes = np.delete(gt_bboxes, max_gt_id, axis=0)\r\n",
        "\r\n",
        "        else:\r\n",
        "            detection_result_dict['TP'] = 0\r\n",
        "\r\n",
        "        results.append(detection_result_dict)\r\n",
        "\r\n",
        "    return results"
      ],
      "execution_count": null,
      "outputs": []
    },
    {
      "cell_type": "markdown",
      "metadata": {
        "id": "wgZX7BqUPUtk"
      },
      "source": [
        "## Step 3. Evaluate Model (15 points)"
      ]
    },
    {
      "cell_type": "markdown",
      "metadata": {
        "id": "H5eWfC29RCKJ"
      },
      "source": [
        "To assess the quality of the model, we will use the [mAP](https://jonathan-hui.medium.com/\\map-mean-average-precision-for-object-detection-45c121a31173) metric defined as AP Area under the curve. To do this, you will need to calculate `recall` and` precision`."
      ]
    },
    {
      "cell_type": "code",
      "metadata": {
        "id": "WK04btkgQAq3"
      },
      "source": [
        "from sklearn.metrics import auc"
      ],
      "execution_count": null,
      "outputs": []
    },
    {
      "cell_type": "code",
      "metadata": {
        "id": "jhmZOkQajpwZ"
      },
      "source": [
        "def evaluate(model, test_loader, device):\r\n",
        "    results = []\r\n",
        "    model.eval()\r\n",
        "    nbr_boxes = 0\r\n",
        "    with torch.no_grad():\r\n",
        "        for batch, (images, targets_true) in enumerate(test_loader):\r\n",
        "            images = list(image.to(device).float() for image in images)\r\n",
        "            targets_pred = model(images)\r\n",
        "\r\n",
        "            targets_true = [{k: v.cpu().float() for k, v in t.items()} for t in targets_true]\r\n",
        "            targets_pred = [{k: v.cpu().float() for k, v in t.items()} for t in targets_pred]\r\n",
        "\r\n",
        "            for i in range(len(targets_true)):\r\n",
        "                target_true = targets_true[i]\r\n",
        "                target_pred = targets_pred[i]\r\n",
        "                nbr_boxes += target_true['labels'].shape[0]\r\n",
        "\r\n",
        "                results.extend(evaluate_sample(target_pred, target_true))\r\n",
        "\r\n",
        "    results = sorted(results, key=lambda k: k['score'], reverse=True)\r\n",
        "\r\n",
        "    # compute precision and recall to calculate mAP\r\n",
        "\r\n",
        "    ## YOUR CODE HERE\r\n",
        "\r\n",
        "    return auc(recall, precision)"
      ],
      "execution_count": null,
      "outputs": []
    },
    {
      "cell_type": "markdown",
      "metadata": {
        "id": "4quQZewevyvp"
      },
      "source": [
        "## Step 4. Train functions (30 points)"
      ]
    },
    {
      "cell_type": "markdown",
      "metadata": {
        "id": "DNBQcU_cSgts"
      },
      "source": [
        "Now define the functions for training the model."
      ]
    },
    {
      "cell_type": "code",
      "metadata": {
        "id": "26JW24UJSmaq"
      },
      "source": [
        "def train_one_epoch(model, train_dataloader, optimizer, device):\r\n",
        "    # YOUR CODE HERE\r\n",
        "    # TRAIN YOUR MODEL ON THE train_dataloader\r\n",
        "    pass\r\n",
        "\r\n",
        "\r\n",
        "def train(model, train_dataloader, val_dataloader, optimizer, device, n_epochs=10):\r\n",
        "    for epoch in range(n_epochs):\r\n",
        "        model.eval()\r\n",
        "        a = evaluate(model, val_dataloader, device=device)\r\n",
        "        print(\"AUC ON TEST: {.4f}\".format(a))\r\n",
        "        model.train()\r\n",
        "        train_one_epoch(model, dataloader, optimizer, device=device)"
      ],
      "execution_count": null,
      "outputs": []
    },
    {
      "cell_type": "markdown",
      "metadata": {
        "id": "a5zi3LMUwXao"
      },
      "source": [
        "## Step 5. Train model (30 points)"
      ]
    },
    {
      "cell_type": "markdown",
      "metadata": {
        "id": "gOIm5e6TT7Pm"
      },
      "source": [
        "Train the model for object detection on a training dataset and achieve a PR-AUC of at least 0.91 on a test dataset. You can use models from `torchvision`."
      ]
    },
    {
      "cell_type": "markdown",
      "metadata": {
        "id": "-AJ0Bi_JUHoe"
      },
      "source": [
        "It is mandatory to use augmentation for training to achieve the desired result on the test. Use the `torchvision.transforms` module or the [albumentations](https://albumentations.ai/) library. The latter library is especially convenient since it can calculate the new coordinates of bounding boxes itself after image transformations. We advise you to pay attention to this [tutorial](https://albumentations.ai/docs/getting_started/bounding_boxes_augmentation/). Please note that the code written in the dataset above is only correct if you are using `albumentations`."
      ]
    },
    {
      "cell_type": "code",
      "metadata": {
        "id": "OfX1ayfrTgNO"
      },
      "source": [
        "train_transform = # YOUR CODE FOR AUGMENTATIONS\r\n",
        "val_transform = # YOUR CODE FOR VALIDATION AUGMENTATIONS\r\n",
        "# HINT: TRAIN TRANSFORM OBVIOUSLY SHOULD BE HARDER THAN THOSE FOR VALIDATION\r\n",
        "\r\n",
        "train_dataset = FruitDataset(\"./train_zip/train\", transform=train_transform)\r\n",
        "val_dataset = FruitDataset(\"./train_zip/test\", transform=val_transform)"
      ],
      "execution_count": null,
      "outputs": []
    },
    {
      "cell_type": "code",
      "metadata": {
        "id": "rN_qlKqnwidK"
      },
      "source": [
        "model = # YOUR CODE, CREATE MODEL FOR OBJECT DETECTION\r\n",
        "# HINT: YOU CAN USE torchvision.models AND torchvision.models.detection\r\n",
        "# READ OFFICIAL DOCS FOR MORE INFO\r\n",
        "\r\n",
        "optimizer = # SELECT YOUR OPTIMIZER\r\n",
        "train_dataloader = # CREATE YOUR DATALOADER, SELECT APPROPRIATE batch_size\r\n",
        "val_dataloader = # CREATE VALIDATION DATALOADER\r\n",
        "n_epochs = # SELECT APPROPRIZTE NUMBER OF EPOCHS\r\n",
        "device = torch.device(\"cuda:0\") if torch.cuda.is_available() else torch.device(\"cpu\")\r\n",
        "\r\n",
        "train(model, train_dataloader, val_dataloader, optimizer, device, n_epochs)"
      ],
      "execution_count": null,
      "outputs": []
    },
    {
      "cell_type": "markdown",
      "metadata": {
        "id": "c60A2kk0S8R9"
      },
      "source": [
        "Output the final quality of the model."
      ]
    },
    {
      "cell_type": "code",
      "metadata": {
        "id": "q0pjpdNGS3n-"
      },
      "source": [
        "evaluate(model, val_dataloader, criterion)"
      ],
      "execution_count": null,
      "outputs": []
    },
    {
      "cell_type": "markdown",
      "metadata": {
        "id": "RdAOThYUS-91"
      },
      "source": [
        "Draw predicted bounding boxes for any two images from the test dataset."
      ]
    },
    {
      "cell_type": "code",
      "metadata": {
        "id": "qCrtr-x9TA8G"
      },
      "source": [
        "image, labels = next(iter(train_dataset))\r\n",
        "pred = model(image.unsqueeze(0).to(device))[0]"
      ],
      "execution_count": null,
      "outputs": []
    },
    {
      "cell_type": "code",
      "metadata": {
        "id": "iUQq3OxvTGti"
      },
      "source": [
        "from PIL import ImageDraw\r\n",
        "\r\n",
        "image = torchvision.transform.ToPILImage()(image)\r\n",
        "draw = ImageDraw.Draw(image)\r\n",
        "for box in labels['boxes']:\r\n",
        "    draw.rectangle([(box[0], box[1]), (box[2], box[3])])\r\n",
        "    \r\n",
        "for box in pred['boxes']:\r\n",
        "    draw.rectangle([(box[0], box[1]), (box[2], box[3])], outline='red')\r\n",
        "image"
      ],
      "execution_count": null,
      "outputs": []
    }
  ]
}